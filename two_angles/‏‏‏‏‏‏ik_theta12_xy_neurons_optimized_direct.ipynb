{
 "cells": [
  {
   "cell_type": "code",
   "execution_count": 1,
   "metadata": {},
   "outputs": [
    {
     "name": "stdout",
     "output_type": "stream",
     "text": [
      "18000\n"
     ]
    }
   ],
   "source": [
    "import nengo\n",
    "import numpy as np\n",
    "import math\n",
    "import matplotlib.pyplot as plt\n",
    "from nengo.utils.matplotlib import rasterplot\n",
    "from nengo.utils.ensemble import tuning_curves\n",
    "from nengo.processes import Piecewise\n",
    "from nengo.dists import Uniform\n",
    "import scipy.special\n",
    "\n",
    "class AreaIntercepts(nengo.dists.Distribution):\n",
    "    \"\"\" Generate an optimally distributed set of intercepts in\n",
    "    high-dimensional space.\n",
    "    \"\"\"\n",
    "    dimensions = nengo.params.NumberParam('dimensions')\n",
    "    base = nengo.dists.DistributionParam('base')\n",
    "\n",
    "    def __init__(self, dimensions, base=nengo.dists.Uniform(-1, 1)):\n",
    "        super(AreaIntercepts, self).__init__()\n",
    "        self.dimensions = dimensions\n",
    "        self.base = base\n",
    "\n",
    "    def __repr(self):\n",
    "        return (\"AreaIntercepts(dimensions=%r, base=%r)\" %\n",
    "                (self.dimensions, self.base))\n",
    "\n",
    "    def transform(self, x):\n",
    "        sign = 1\n",
    "        if x > 0:\n",
    "            x = -x\n",
    "            sign = -1\n",
    "        return sign * np.sqrt(1 - scipy.special.betaincinv(\n",
    "            (self.dimensions + 1) / 2.0, 0.5, x + 1))\n",
    "\n",
    "    def sample(self, n, d=None, rng=np.random):\n",
    "        s = self.base.sample(n=n, d=d, rng=rng)\n",
    "        for i in range(len(s)):\n",
    "            s[i] = self.transform(s[i])\n",
    "        return s\n",
    "    \n",
    "def inverse_kinematics_numeric(L = [1, 1, 1], neurons_per_rad = 200, adaptation_rate=0.005):\n",
    "\n",
    "    model = nengo.Network(seed=10)\n",
    "    model.config[nengo.Ensemble].neuron_type = nengo.Direct()\n",
    "    with model:\n",
    "        \n",
    "        NORMALIZE_FACTOR = 1000\n",
    "        END_EFFECTOR_COORIDINATES_TOLERANCE = 0.001 / NORMALIZE_FACTOR \n",
    "        CONSIDER_THETA1_NODE = 1\n",
    "        CONSIDER_THETA2_NODE = 1\n",
    "        \n",
    "        l1 = float(L[0]) / NORMALIZE_FACTOR\n",
    "        l2 = float(L[1]) / NORMALIZE_FACTOR\n",
    "        l3 = float(L[2]) / NORMALIZE_FACTOR\n",
    "        \n",
    "        #l1 = L[0]\n",
    "        #l2 = L[1]\n",
    "        #l3 = L[2]\n",
    "        \n",
    "        def scale_up(x):\n",
    "            return x * NORMALIZE_FACTOR\n",
    "            \n",
    "        def scale_down(x):\n",
    "            return x / NORMALIZE_FACTOR\n",
    "    \n",
    "        def scale_up_angle(x):\n",
    "            return x * np.pi + np.pi\n",
    "            \n",
    "        def scale_down_angle(x):\n",
    "            return (x - np.pi) / (np.pi)\n",
    "\n",
    "        model.stim_x = nengo.Node(output=None, size_in=1)\n",
    "        model.stim_y = nengo.Node(output=None, size_in=1)\n",
    "        \n",
    "        \n",
    "        \n",
    "        model.array = nengo.Ensemble(n_neurons=int(6*neurons_per_rad), \n",
    "                                    dimensions=2, radius=np.sqrt(2*(l1+l2)**2),\n",
    "                                        intercepts=AreaIntercepts(\n",
    "                                        dimensions=2,\n",
    "                                        base=nengo.dists.Uniform(-.1, .1))) \n",
    "       \n",
    "        model.array_probe = []\n",
    "        for i, ens in enumerate([model.array]):\n",
    "            model.array_probe.append(nengo.Probe(ens, synapse=0.01))\n",
    "            nengo.Connection(model.stim_x, ens[0])\n",
    "            nengo.Connection(model.stim_y, ens[1])\n",
    "        \n",
    "       \n",
    "        model.stim_theta1 = nengo.Node(output=None, size_in=1)\n",
    "        model.stim_theta2 = nengo.Node(output=None, size_in=1)\n",
    "        \n",
    "          \n",
    "        #calculate Y - according to FK\n",
    "        model.theta12=nengo.Ensemble(n_neurons=3*neurons_per_rad, dimensions=2, radius=np.sqrt(2))\n",
    "        \n",
    "        \n",
    "  #      nengo.Connection(model.stim_theta1, model.theta12[0],transform=CONSIDER_THETA1_NODE)\n",
    "  #      nengo.Connection(model.stim_theta2, model.theta12[1],transform=CONSIDER_THETA2_NODE)\n",
    "        \n",
    "        \n",
    "        model.sin_theta1=nengo.Ensemble(n_neurons=3*neurons_per_rad, dimensions=1, radius=1)\n",
    "        model.sin_theta12=nengo.Ensemble(n_neurons=3*neurons_per_rad, dimensions=1, radius=1)\n",
    "        \n",
    "        \n",
    "        def calculate_sintheta1(theta):\n",
    "            if CONSIDER_THETA1_NODE: t = scale_up_angle(theta[0])\n",
    "            else: t = 0\n",
    "            return np.sin(t)\n",
    "        \n",
    "        def calculate_sintheta12(theta):\n",
    "            if CONSIDER_THETA1_NODE: t1 = scale_up_angle(theta[0])\n",
    "            else: t1 = 0\n",
    "            if CONSIDER_THETA1_NODE: t2 = scale_up_angle(theta[1])\n",
    "            else: t2 = 0\n",
    "            t = t1+t2\n",
    "            return np.sin(t)\n",
    "        \n",
    "        nengo.Connection(model.theta12, model.sin_theta1,function=calculate_sintheta1)\n",
    "        nengo.Connection(model.theta12, model.sin_theta12,function=calculate_sintheta12)  \n",
    "        \n",
    "        \n",
    "        model.l1_sin_theta1=nengo.Ensemble(n_neurons=3*neurons_per_rad, dimensions=1, radius=l1,\n",
    "                                        intercepts=AreaIntercepts(\n",
    "                                        dimensions=1,\n",
    "                                        base=nengo.dists.Uniform(-.01, .01)))\n",
    "        model.l2_sin_theta12=nengo.Ensemble(n_neurons=3*neurons_per_rad, dimensions=1, radius=l2,\n",
    "                                        intercepts=AreaIntercepts(\n",
    "                                        dimensions=1,\n",
    "                                        base=nengo.dists.Uniform(-.01, .01)))\n",
    "        \n",
    "      \n",
    "        \n",
    "        def calculate_l1_theta(theta): \n",
    "            return l1*theta\n",
    "        \n",
    "        def calculate_l2_theta(theta): \n",
    "            return l2*theta\n",
    "        \n",
    "        nengo.Connection(model.sin_theta1,  model.l1_sin_theta1,function=calculate_l1_theta)\n",
    "        nengo.Connection(model.sin_theta12, model.l2_sin_theta12,function=calculate_l2_theta)\n",
    "     \n",
    "        model.Y = nengo.Ensemble(n_neurons=3*neurons_per_rad, dimensions=1, radius=l1+l2,\n",
    "                                        intercepts=AreaIntercepts(\n",
    "                                        dimensions=1,\n",
    "                                        base=nengo.dists.Uniform(-.01, .01)))\n",
    "       \n",
    "        nengo.Connection(model.l1_sin_theta1, model.Y)\n",
    "        nengo.Connection(model.l2_sin_theta12, model.Y)\n",
    "        \n",
    "       \n",
    "        \n",
    "        \n",
    "        \n",
    "        # calculate X - according to FK\n",
    "        model.cos_theta1=nengo.Ensemble(n_neurons=3*neurons_per_rad, dimensions=1, radius=1)\n",
    "        model.cos_theta12=nengo.Ensemble(n_neurons=3*neurons_per_rad, dimensions=1, radius=1)\n",
    "        \n",
    "       \n",
    "        def calculate_costheta1(theta): \n",
    "            t = scale_up_angle(theta[0])\n",
    "            return np.cos(t)\n",
    "        \n",
    "        def calculate_costheta12(theta): \n",
    "            t1 = scale_up_angle(theta[0])\n",
    "            t2 = scale_up_angle(theta[1])\n",
    "            t = t1+t2\n",
    "            return np.cos(t)\n",
    "        \n",
    "        nengo.Connection(model.theta12, model.cos_theta1,function=calculate_costheta1)\n",
    "        nengo.Connection(model.theta12, model.cos_theta12,function=calculate_costheta12)   \n",
    "        \n",
    "       \n",
    "        model.l1_cos_theta1=nengo.Ensemble(n_neurons=3*neurons_per_rad, dimensions=1, radius=l1,\n",
    "                                        intercepts=AreaIntercepts(\n",
    "                                        dimensions=1,\n",
    "                                        base=nengo.dists.Uniform(-.01, .01)))\n",
    "        model.l2_cos_theta12=nengo.Ensemble(n_neurons=3*neurons_per_rad, dimensions=1, radius=l2,\n",
    "                                        intercepts=AreaIntercepts(\n",
    "                                        dimensions=1,\n",
    "                                        base=nengo.dists.Uniform(-.01, .01)))\n",
    "        \n",
    "        \n",
    "        nengo.Connection(model.cos_theta1, model.l1_cos_theta1,function=calculate_l1_theta)\n",
    "        nengo.Connection(model.cos_theta12, model.l2_cos_theta12,function=calculate_l2_theta)\n",
    "        \n",
    "       \n",
    "        model.X = nengo.Ensemble(n_neurons=3*neurons_per_rad, dimensions=1, radius=l1+l2,\n",
    "                                        intercepts=AreaIntercepts(\n",
    "                                        dimensions=1,\n",
    "                                        base=nengo.dists.Uniform(-.01, .01)))\n",
    "     \n",
    "        nengo.Connection(model.l1_cos_theta1, model.X)\n",
    "        nengo.Connection(model.l2_cos_theta12, model.X)\n",
    "        \n",
    "       \n",
    "    \n",
    "       \n",
    "        \n",
    "        #calculate Deltas\n",
    "        model.xDelta=nengo.Ensemble(n_neurons=3*neurons_per_rad, dimensions=1, radius=l1+l2)\n",
    "        model.yDelta=nengo.Ensemble(n_neurons=3*neurons_per_rad, dimensions=1, radius=l1+l2)\n",
    "        \n",
    "        \n",
    "        nengo.Connection(model.array[0], model.xDelta)\n",
    "        nengo.Connection(model.array[1], model.yDelta)\n",
    "        nengo.Connection(model.X, model.xDelta, transform=-1)\n",
    "        nengo.Connection(model.Y, model.yDelta, transform=-1)\n",
    "        \n",
    "       \n",
    "        \n",
    "        #calculate if to keep calculating\n",
    "        model.IsPoseEqualtoEndEffectorX = nengo.Ensemble(n_neurons=3*neurons_per_rad, dimensions=1, \n",
    "                                                         radius=1)\n",
    "        model.IsPoseEqualtoEndEffectorY = nengo.Ensemble(n_neurons=3*neurons_per_rad, dimensions=1, \n",
    "                                                         radius=1)\n",
    "        \n",
    "        \n",
    "        def check_difference(Delta):\n",
    "            if Delta < 0:\n",
    "                if Delta > (END_EFFECTOR_COORIDINATES_TOLERANCE * -1): return 1\n",
    "            else:\n",
    "                if Delta < END_EFFECTOR_COORIDINATES_TOLERANCE: return 1\n",
    "            return 0\n",
    "        \n",
    "        nengo.Connection(model.xDelta,model.IsPoseEqualtoEndEffectorX, function=check_difference)\n",
    "        nengo.Connection(model.yDelta,model.IsPoseEqualtoEndEffectorY, function=check_difference)\n",
    "        \n",
    "       \n",
    "        model.IsPoseEqualtoEndEffector_array = nengo.Ensemble(n_neurons=3*neurons_per_rad, dimensions=2,radius=1)\n",
    "       \n",
    "        nengo.Connection(model.IsPoseEqualtoEndEffectorX,model.IsPoseEqualtoEndEffector_array[0])\n",
    "        nengo.Connection(model.IsPoseEqualtoEndEffectorY,model.IsPoseEqualtoEndEffector_array[1])\n",
    "        \n",
    "       \n",
    "        model.IsPoseEqualtoEndEffector = nengo.Ensemble(n_neurons=3*neurons_per_rad, dimensions=1, \n",
    "                                                        radius=1)\n",
    "        \n",
    "        def multiply2(array):\n",
    "            return array[0]*array[1]\n",
    "        \n",
    "        nengo.Connection(model.IsPoseEqualtoEndEffector_array,model.IsPoseEqualtoEndEffector, function=multiply2)\n",
    "        \n",
    "        \n",
    "        \n",
    "         # calculate Jacobian\n",
    "            # J = np.array([[a11,a12],\n",
    "            #           [a21,a22],       \n",
    "            #           ])\n",
    "        \n",
    "        model.a11 = nengo.Ensemble(n_neurons=3*neurons_per_rad, dimensions=1, radius=l1+l2)\n",
    "        model.a12 = nengo.Ensemble(n_neurons=3*neurons_per_rad, dimensions=1, radius=l2)\n",
    "        model.a21 = nengo.Ensemble(n_neurons=3*neurons_per_rad, dimensions=1, radius=l1+l2)\n",
    "        model.a22 = nengo.Ensemble(n_neurons=3*neurons_per_rad, dimensions=1, radius=l2)\n",
    "        \n",
    "        \n",
    "        nengo.Connection(model.Y,model.a11,transform=-1)\n",
    "        nengo.Connection(model.l2_sin_theta12,model.a12,transform=-1)\n",
    "        nengo.Connection(model.X,model.a21)\n",
    "        nengo.Connection(model.l2_cos_theta12,model.a22)\n",
    "        \n",
    "       \n",
    "        model.J_ens = nengo.Ensemble(n_neurons=15*neurons_per_rad, dimensions=7, \n",
    "                               radius=np.sqrt(4*(l1+l2)**2+2*(l2)**2+1),\n",
    "                                        intercepts=AreaIntercepts(\n",
    "                                        dimensions=7,\n",
    "                                        base=nengo.dists.Uniform(-.1, .1)))\n",
    "       \n",
    "        nengo.Connection(model.a11,model.J_ens[0])\n",
    "        nengo.Connection(model.a12,model.J_ens[1]) \n",
    "        nengo.Connection(model.a21,model.J_ens[2])\n",
    "        nengo.Connection(model.a22,model.J_ens[3])\n",
    "        nengo.Connection(model.xDelta,model.J_ens[4])\n",
    "        nengo.Connection(model.yDelta,model.J_ens[5])\n",
    "        nengo.Connection(model.IsPoseEqualtoEndEffector,model.J_ens[6])\n",
    "        \n",
    "        \n",
    "        model.pre_theta1 = nengo.Ensemble(n_neurons=3*neurons_per_rad, dimensions=2, radius=np.sqrt(2))\n",
    "        model.pre_theta2 = nengo.Ensemble(n_neurons=3*neurons_per_rad, dimensions=2, radius=np.sqrt(2))\n",
    "        \n",
    "        nengo.Connection(model.theta12[0], model.pre_theta1[0])\n",
    "        nengo.Connection(model.theta12[1], model.pre_theta2[0])\n",
    "        \n",
    "        def calculate_J_theta1(J):\n",
    "            global CONSIDER_THETA1_NODE\n",
    "            newAngles=[0,0]\n",
    "            if(J[6] > 0):\n",
    "                j = np.array([[J[0],J[1]], [J[2],J[3]]])\n",
    "        \n",
    "                inverseJ = np.linalg.pinv(j) # Jacobian pseudo inverse\n",
    "                deltaMatrix = np.array([J[4], J[5]]).T # x, y, z, phie delta change vector\n",
    "                newAngles = inverseJ.dot(deltaMatrix) # J^-1 dot product with x, y, z, phie delta change vector\n",
    "            final = newAngles[0]*adaptation_rate\n",
    "            CONSIDER_THETA1_NODE = 0\n",
    "            return scale_down_angle(final)\n",
    "        \n",
    "        def calculate_J_theta2(J):\n",
    "            global CONSIDER_THETA2_NODE\n",
    "            newAngles=[0,0]\n",
    "            if(J[6] > 0):\n",
    "                j = np.array([[J[0],J[1]], [J[2],J[3]]])\n",
    "        \n",
    "                inverseJ = np.linalg.pinv(j) # Jacobian pseudo inverse\n",
    "                deltaMatrix = np.array([J[4], J[5]]).T # x, y, z, phie delta change vector\n",
    "                newAngles = inverseJ.dot(deltaMatrix) # J^-1 dot product with x, y, z, phie delta change vector\n",
    "            final = newAngles[1]*adaptation_rate\n",
    "            CONSIDER_THETA2_NODE = 0\n",
    "            return scale_down_angle(final)\n",
    "        \n",
    "        \n",
    "        #adding the new angles values according to J\n",
    "        nengo.Connection(model.J_ens,model.pre_theta1[1],function=calculate_J_theta1)\n",
    "        nengo.Connection(model.J_ens,model.pre_theta2[1],function=calculate_J_theta2)\n",
    "        \n",
    "                 \n",
    "        def calculate_scaled_theta(pre_theta): \n",
    "            t1 = scale_up_angle(pre_theta[0])\n",
    "            t2 = scale_up_angle(pre_theta[1])\n",
    "            t = t1+t2\n",
    "            return scale_down_angle(t)  \n",
    "            \n",
    "            \n",
    "        nengo.Connection(model.pre_theta1, model.theta12[0], function=calculate_scaled_theta)\n",
    "        nengo.Connection(model.pre_theta2, model.theta12[1], function=calculate_scaled_theta)    \n",
    "            \n",
    "        model.probe_pre_theta1 = nengo.Probe(model.pre_theta1[1], synapse=0.01)\n",
    "        model.probe_pre_theta2 = nengo.Probe(model.pre_theta2[1], synapse=0.01)\n",
    "        \n",
    "        model.probe_theta1 = nengo.Probe(model.theta12[0], synapse=0.01)\n",
    "        model.probe_theta2 = nengo.Probe(model.theta12[1], synapse=0.01)\n",
    "        \n",
    "        \n",
    "        model.probe_X = nengo.Probe(model.X, synapse=0.01)\n",
    "        model.probe_Y = nengo.Probe(model.Y, synapse=0.01)\n",
    "        \n",
    "        return model\n",
    "    \n",
    "    \n",
    "model = nengo.Network(label='Inverse Kinematics numeric')\n",
    "\n",
    "with model:\n",
    "    NORMALIZE_FACTOR = 1000\n",
    "    def scale_down(x):\n",
    "            return x / NORMALIZE_FACTOR\n",
    "        \n",
    "    def scale_down_angle(x):\n",
    "            return (x - np.pi) / (np.pi)\n",
    "        \n",
    "  #  stim_x = nengo.Node(Piecewise({0: scale_down(np.sqrt(0.5)+1)}))     \n",
    "  #  stim_y = nengo.Node(Piecewise({0: scale_down(0.5)})  \n",
    "                        \n",
    "    stim_x = nengo.Node(Piecewise({0: scale_down(0)}))                \n",
    "    stim_y = nengo.Node(Piecewise({0: scale_down(2)}))                    \n",
    "                                                                       \n",
    "    \n",
    "    ik = inverse_kinematics_numeric()\n",
    "    \n",
    "    nengo.Connection(stim_x, ik.stim_x)\n",
    "    nengo.Connection(stim_y, ik.stim_y)\n",
    "    \n",
    "    \n",
    "    print(model.n_neurons)       "
   ]
  },
  {
   "cell_type": "code",
   "execution_count": 2,
   "metadata": {},
   "outputs": [
    {
     "data": {
      "application/vdom.v1+json": {
       "attributes": {},
       "tagName": "div"
      },
      "text/html": [
       "\n",
       "                <script>\n",
       "                    if (Jupyter.version.split(\".\")[0] < 5) {\n",
       "                        var pb = document.getElementById(\"73469147-1c64-40b4-8ace-56db66fec065\");\n",
       "                        var text = document.createTextNode(\n",
       "                            \"HMTL progress bar requires Jupyter Notebook >= \" +\n",
       "                            \"5.0 or Jupyter Lab. Alternatively, you can use \" +\n",
       "                            \"TerminalProgressBar().\");\n",
       "                        pb.parentNode.insertBefore(text, pb);\n",
       "                    }\n",
       "                </script>\n",
       "                <div id=\"73469147-1c64-40b4-8ace-56db66fec065\" style=\"\n",
       "                    width: 100%;\n",
       "                    border: 1px solid #cfcfcf;\n",
       "                    border-radius: 4px;\n",
       "                    text-align: center;\n",
       "                    position: relative;\">\n",
       "                  <div class=\"pb-text\" style=\"\n",
       "                      position: absolute;\n",
       "                      width: 100%;\">\n",
       "                    0%\n",
       "                  </div>\n",
       "                  <div class=\"pb-fill\" style=\"\n",
       "                      background-color: #bdd2e6;\n",
       "                      width: 0%;\">\n",
       "                    <style type=\"text/css\" scoped=\"scoped\">\n",
       "                        @keyframes pb-fill-anim {\n",
       "                            0% { background-position: 0 0; }\n",
       "                            100% { background-position: 100px 0; }\n",
       "                        }\n",
       "                    </style>\n",
       "                    &nbsp;\n",
       "                  </div>\n",
       "                </div>"
      ],
      "text/plain": [
       "HtmlProgressBar cannot be displayed. Please use the TerminalProgressBar. It can be enabled with `nengo.rc.set('progress', 'progress_bar', 'nengo.utils.progress.TerminalProgressBar')`."
      ]
     },
     "metadata": {},
     "output_type": "display_data"
    },
    {
     "data": {
      "application/vdom.v1+json": {
       "attributes": {
        "id": "0c655d83-28e9-4a47-99e1-e3ce99afc524",
        "style": {
         "border": "1px solid #cfcfcf",
         "borderRadius": "4px",
         "boxSizing": "border-box",
         "position": "relative",
         "textAlign": "center",
         "width": "100%"
        }
       },
       "children": [
        {
         "attributes": {
          "class": "pb-text",
          "style": {
           "position": "absolute",
           "width": "100%"
          }
         },
         "children": [
          "Build finished in 0:00:01."
         ],
         "tagName": "div"
        },
        {
         "attributes": {
          "class": "pb-fill",
          "style": {
           "animation": "none",
           "backgroundColor": "#bdd2e6",
           "backgroundImage": "none",
           "backgroundSize": "100px 100%",
           "width": "100%"
          }
         },
         "children": [
          {
           "attributes": {
            "scoped": "scoped",
            "type": "text/css"
           },
           "children": [
            "\n                        @keyframes pb-fill-anim {\n                            0% { background-position: 0 0; }\n                            100% { background-position: 100px 0; }\n                        }}"
           ],
           "tagName": "style"
          },
          " "
         ],
         "tagName": "div"
        }
       ],
       "tagName": "div"
      },
      "text/html": [
       "<script>\n",
       "              (function () {\n",
       "                  var root = document.getElementById('73469147-1c64-40b4-8ace-56db66fec065');\n",
       "                  var text = root.getElementsByClassName('pb-text')[0];\n",
       "                  var fill = root.getElementsByClassName('pb-fill')[0];\n",
       "\n",
       "                  text.innerHTML = 'Build finished in 0:00:01.';\n",
       "                  \n",
       "            fill.style.width = '100%';\n",
       "            fill.style.animation = 'pb-fill-anim 2s linear infinite';\n",
       "            fill.style.backgroundSize = '100px 100%';\n",
       "            fill.style.backgroundImage = 'repeating-linear-gradient(' +\n",
       "                '90deg, #bdd2e6, #edf2f8 40%, #bdd2e6 80%, #bdd2e6)';\n",
       "        \n",
       "                  \n",
       "                fill.style.animation = 'none';\n",
       "                fill.style.backgroundImage = 'none';\n",
       "            \n",
       "              })();\n",
       "        </script>"
      ]
     },
     "metadata": {},
     "output_type": "display_data"
    },
    {
     "data": {
      "application/vdom.v1+json": {
       "attributes": {},
       "tagName": "div"
      },
      "text/html": [
       "\n",
       "                <script>\n",
       "                    if (Jupyter.version.split(\".\")[0] < 5) {\n",
       "                        var pb = document.getElementById(\"ce8526f0-ac04-40b5-94c4-3c2928756cda\");\n",
       "                        var text = document.createTextNode(\n",
       "                            \"HMTL progress bar requires Jupyter Notebook >= \" +\n",
       "                            \"5.0 or Jupyter Lab. Alternatively, you can use \" +\n",
       "                            \"TerminalProgressBar().\");\n",
       "                        pb.parentNode.insertBefore(text, pb);\n",
       "                    }\n",
       "                </script>\n",
       "                <div id=\"ce8526f0-ac04-40b5-94c4-3c2928756cda\" style=\"\n",
       "                    width: 100%;\n",
       "                    border: 1px solid #cfcfcf;\n",
       "                    border-radius: 4px;\n",
       "                    text-align: center;\n",
       "                    position: relative;\">\n",
       "                  <div class=\"pb-text\" style=\"\n",
       "                      position: absolute;\n",
       "                      width: 100%;\">\n",
       "                    0%\n",
       "                  </div>\n",
       "                  <div class=\"pb-fill\" style=\"\n",
       "                      background-color: #bdd2e6;\n",
       "                      width: 0%;\">\n",
       "                    <style type=\"text/css\" scoped=\"scoped\">\n",
       "                        @keyframes pb-fill-anim {\n",
       "                            0% { background-position: 0 0; }\n",
       "                            100% { background-position: 100px 0; }\n",
       "                        }\n",
       "                    </style>\n",
       "                    &nbsp;\n",
       "                  </div>\n",
       "                </div>"
      ],
      "text/plain": [
       "HtmlProgressBar cannot be displayed. Please use the TerminalProgressBar. It can be enabled with `nengo.rc.set('progress', 'progress_bar', 'nengo.utils.progress.TerminalProgressBar')`."
      ]
     },
     "metadata": {},
     "output_type": "display_data"
    },
    {
     "data": {
      "application/vdom.v1+json": {
       "attributes": {
        "id": "1d491b3d-0570-4675-a572-c46bf5f53d32",
        "style": {
         "border": "1px solid #cfcfcf",
         "borderRadius": "4px",
         "boxSizing": "border-box",
         "position": "relative",
         "textAlign": "center",
         "width": "100%"
        }
       },
       "children": [
        {
         "attributes": {
          "class": "pb-text",
          "style": {
           "position": "absolute",
           "width": "100%"
          }
         },
         "children": [
          "Simulation finished in 0:00:25."
         ],
         "tagName": "div"
        },
        {
         "attributes": {
          "class": "pb-fill",
          "style": {
           "animation": "none",
           "backgroundColor": "#bdd2e6",
           "backgroundImage": "none",
           "transition": "width 0.1s linear",
           "width": "100%"
          }
         },
         "children": [
          {
           "attributes": {
            "scoped": "scoped",
            "type": "text/css"
           },
           "children": [
            "\n                        @keyframes pb-fill-anim {\n                            0% { background-position: 0 0; }\n                            100% { background-position: 100px 0; }\n                        }}"
           ],
           "tagName": "style"
          },
          " "
         ],
         "tagName": "div"
        }
       ],
       "tagName": "div"
      },
      "text/html": [
       "<script>\n",
       "              (function () {\n",
       "                  var root = document.getElementById('ce8526f0-ac04-40b5-94c4-3c2928756cda');\n",
       "                  var text = root.getElementsByClassName('pb-text')[0];\n",
       "                  var fill = root.getElementsByClassName('pb-fill')[0];\n",
       "\n",
       "                  text.innerHTML = 'Simulation finished in 0:00:25.';\n",
       "                  \n",
       "            if (100.0 > 0.) {\n",
       "                fill.style.transition = 'width 0.1s linear';\n",
       "            } else {\n",
       "                fill.style.transition = 'none';\n",
       "            }\n",
       "\n",
       "            fill.style.width = '100.0%';\n",
       "            fill.style.animation = 'none';\n",
       "            fill.style.backgroundImage = 'none'\n",
       "        \n",
       "                  \n",
       "                fill.style.animation = 'none';\n",
       "                fill.style.backgroundImage = 'none';\n",
       "            \n",
       "              })();\n",
       "        </script>"
      ]
     },
     "metadata": {},
     "output_type": "display_data"
    }
   ],
   "source": [
    "with nengo.Simulator(model) as sim:\n",
    "#    eval_points, activities = tuning_curves(ik.theta12, sim)\n",
    "    sim.run(8)"
   ]
  },
  {
   "cell_type": "code",
   "execution_count": 3,
   "metadata": {},
   "outputs": [
    {
     "data": {
      "image/png": "[encoded data removed]",
      "text/plain": [
       "<Figure size 432x288 with 1 Axes>"
      ]
     },
     "metadata": {
      "needs_background": "light"
     },
     "output_type": "display_data"
    }
   ],
   "source": [
    "plt.figure()\n",
    "plt.xlabel(\"Time (sec)\")\n",
    "plt.ylabel(\"Value\");\n",
    "plt.plot(sim.trange(), sim.data[ik.probe_theta1], color = 'purple',label=\"theta1\")\n",
    "plt.plot(sim.trange(), sim.data[ik.probe_theta2], color = 'pink',label=\"theta2\")\n",
    "plt.legend()\n",
    "plt.savefig('loc.jpg', dpi=350)"
   ]
  },
  {
   "cell_type": "code",
   "execution_count": 4,
   "metadata": {},
   "outputs": [
    {
     "data": {
      "image/png": "[encoded data removed]",
      "text/plain": [
       "<Figure size 432x288 with 1 Axes>"
      ]
     },
     "metadata": {
      "needs_background": "light"
     },
     "output_type": "display_data"
    }
   ],
   "source": [
    "plt.figure()\n",
    "plt.xlabel(\"Time (sec)\")\n",
    "plt.ylabel(\"Input signal\");\n",
    "plt.plot(sim.trange(), sim.data[ik.array_probe[0]]*1000)\n",
    "plt.savefig('xyz.jpg', dpi=350)"
   ]
  },
  {
   "cell_type": "code",
   "execution_count": 5,
   "metadata": {},
   "outputs": [
    {
     "data": {
      "image/png": "[encoded data removed]",
      "text/plain": [
       "<Figure size 432x288 with 1 Axes>"
      ]
     },
     "metadata": {
      "needs_background": "light"
     },
     "output_type": "display_data"
    }
   ],
   "source": [
    "plt.figure()\n",
    "plt.xlabel(\"Time (sec)\")\n",
    "plt.ylabel(\"Location\");\n",
    "plt.plot(sim.trange(), sim.data[ik.probe_X]*1000, label=\"X\", color = 'blue')\n",
    "plt.plot(sim.trange(), sim.data[ik.probe_Y]*1000, label=\"Y\", color = 'orange')\n",
    "plt.legend()\n",
    "plt.savefig('loc.jpg', dpi=350)"
   ]
  },
  {
   "cell_type": "code",
   "execution_count": 209,
   "metadata": {},
   "outputs": [],
   "source": [
    "\n",
    "#plt.figure()\n",
    "#plt.plot(eval_points, activities, lw=1)\n",
    "#plt.xlabel(\"Input signal\")\n",
    "#plt.ylabel(\"Firing rate (Hz)\");\n"
   ]
  },
  {
   "cell_type": "code",
   "execution_count": null,
   "metadata": {},
   "outputs": [],
   "source": []
  }
 ],
 "metadata": {
  "kernelspec": {
   "display_name": "Python 3",
   "language": "python",
   "name": "python3"
  },
  "language_info": {
   "codemirror_mode": {
    "name": "ipython",
    "version": 3
   },
   "file_extension": ".py",
   "mimetype": "text/x-python",
   "name": "python",
   "nbconvert_exporter": "python",
   "pygments_lexer": "ipython3",
   "version": "3.7.3"
  }
 },
 "nbformat": 4,
 "nbformat_minor": 2
}
