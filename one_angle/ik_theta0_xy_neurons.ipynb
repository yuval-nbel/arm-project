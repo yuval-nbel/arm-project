{
 "cells": [
  {
   "cell_type": "code",
   "execution_count": 4,
   "metadata": {},
   "outputs": [
    {
     "name": "stdout",
     "output_type": "stream",
     "text": [
      "18017\n"
     ]
    }
   ],
   "source": [
    "import nengo\n",
    "import numpy as np\n",
    "import math\n",
    "import matplotlib.pyplot as plt\n",
    "from nengo.utils.matplotlib import rasterplot\n",
    "from nengo.utils.ensemble import tuning_curves\n",
    "from nengo.processes import Piecewise\n",
    "\n",
    "def inverse_kinematics_numeric(L = [1, 1, 1], neurons_per_rad = 300, adaptation_rate=0.5):\n",
    "\n",
    "    model = nengo.Network()\n",
    "    \n",
    "    with model:\n",
    "        END_EFFECTOR_COORIDINATES_TOLERANCE = 0.001 \n",
    "    \n",
    "        def scale_up_angle(x):\n",
    "            return x * np.pi + np.pi\n",
    "            \n",
    "        def scale_down_angle(x):\n",
    "            return (x - np.pi) / (np.pi)\n",
    "\n",
    "        model.stim_x = nengo.Node(output=None, size_in=1)\n",
    "        model.stim_y = nengo.Node(output=None, size_in=1)\n",
    "        \n",
    "        \n",
    "        model.array = nengo.Ensemble(n_neurons=int(6*neurons_per_rad), \n",
    "                                    dimensions=2, radius=np.sqrt(2*L[0]**2), seed=10) \n",
    "        model.array_direct = nengo.Ensemble(n_neurons=1, dimensions=2,\n",
    "                                           neuron_type=nengo.Direct())\n",
    "        \n",
    "        model.array_probe = []\n",
    "        for i, ens in enumerate([model.array, model.array_direct]):\n",
    "            model.array_probe.append(nengo.Probe(ens, synapse=0.01))\n",
    "            nengo.Connection(model.stim_x, ens[0])\n",
    "            nengo.Connection(model.stim_y, ens[1])\n",
    "            \n",
    "            \n",
    "        \n",
    "        \n",
    "        model.stim_teta0 = nengo.Node(output=None, size_in=1)\n",
    "       \n",
    "\n",
    "        # BC = Before Scale Up\n",
    "        model.BS_teta0 = nengo.Ensemble(n_neurons=3*neurons_per_rad, dimensions=1, radius=1, seed=10)\n",
    "        model.BS_teta0_direct = nengo.Ensemble(n_neurons=1, dimensions=1, neuron_type=nengo.Direct())\n",
    "        \n",
    "        nengo.Connection(model.stim_teta0, model.BS_teta0)\n",
    "        nengo.Connection(model.stim_teta0, model.BS_teta0_direct)\n",
    "        \n",
    "        model.teta0 = nengo.Ensemble(n_neurons=3*neurons_per_rad, dimensions=1, radius=np.pi, seed=10)\n",
    "        model.spikes_teta0 = nengo.Probe(model.teta0.neurons)\n",
    "        model.teta0_direct = nengo.Ensemble(n_neurons=1, dimensions=1,neuron_type=nengo.Direct())\n",
    "        \n",
    "        nengo.Connection(model.BS_teta0, model.teta0, function=scale_up_angle)\n",
    "        nengo.Connection(model.BS_teta0_direct, model.teta0_direct, function=scale_up_angle)\n",
    "      \n",
    "        \n",
    "        #calculate Y - according to FK\n",
    "        model.sin_teta0=nengo.Ensemble(n_neurons=3*neurons_per_rad, dimensions=1, radius=1, seed=10)\n",
    "        model.sin_teta0_direct = nengo.Ensemble(n_neurons=1, dimensions=1, neuron_type=nengo.Direct())\n",
    "        \n",
    "        def calculate_sinTeta(teta): \n",
    "            return np.sin(teta)\n",
    "        \n",
    "        nengo.Connection(model.teta0, model.sin_teta0,function=calculate_sinTeta)\n",
    "        nengo.Connection(model.teta0_direct, model.sin_teta0_direct,function=calculate_sinTeta)\n",
    "        \n",
    "        model.Y = nengo.Ensemble(n_neurons=3*neurons_per_rad, dimensions=1, radius=L[0], seed=10)\n",
    "        model.Y_direct = nengo.Ensemble(n_neurons=1, dimensions=1, neuron_type=nengo.Direct())\n",
    "       \n",
    "        \n",
    "        def calculate_l0_Teta(teta): \n",
    "            return L[0]*teta\n",
    "        \n",
    "        \n",
    "        nengo.Connection(model.sin_teta0,model.Y,function=calculate_l0_Teta)\n",
    "        nengo.Connection(model.sin_teta0_direct,model.Y_direct,function=calculate_l0_Teta)\n",
    "       \n",
    "       \n",
    "        # calculate X - according to FK\n",
    "        model.cos_teta0=nengo.Ensemble(n_neurons=3*neurons_per_rad, dimensions=1, radius=1, seed=10)\n",
    "        model.cos_teta0_direct = nengo.Ensemble(n_neurons=1, dimensions=1, neuron_type=nengo.Direct())\n",
    "        \n",
    "        \n",
    "        def calculate_cosTeta(teta): \n",
    "            return np.cos(teta)\n",
    "        \n",
    "        nengo.Connection(model.teta0, model.cos_teta0,function=calculate_cosTeta)\n",
    "        nengo.Connection(model.teta0_direct, model.cos_teta0_direct,function=calculate_cosTeta)\n",
    "      \n",
    "        model.X = nengo.Ensemble(n_neurons=3*neurons_per_rad, dimensions=1, radius=L[0], seed=10)\n",
    "        model.X_direct=nengo.Ensemble(n_neurons=1, dimensions=1, neuron_type=nengo.Direct())\n",
    "      \n",
    "        nengo.Connection(model.cos_teta0, model.X,function=calculate_l0_Teta)\n",
    "        nengo.Connection(model.cos_teta0_direct, model.X_direct,function=calculate_l0_Teta)\n",
    "     \n",
    "       \n",
    "    \n",
    "       \n",
    "        \n",
    "        #calculate Deltas\n",
    "        model.xDelta=nengo.Ensemble(n_neurons=3*neurons_per_rad, dimensions=1, radius=L[0], seed=10)\n",
    "        model.yDelta=nengo.Ensemble(n_neurons=3*neurons_per_rad, dimensions=1, radius=L[0], seed=10)\n",
    "        \n",
    "        model.xDelta_direct=nengo.Ensemble(n_neurons=1, dimensions=1, neuron_type=nengo.Direct())\n",
    "        model.yDelta_direct=nengo.Ensemble(n_neurons=1, dimensions=1, neuron_type=nengo.Direct())\n",
    "        \n",
    "        nengo.Connection(model.array[0], model.xDelta)\n",
    "        nengo.Connection(model.X, model.xDelta, transform=-1)\n",
    "        nengo.Connection(model.array[1], model.yDelta)\n",
    "        nengo.Connection(model.Y, model.yDelta, transform=-1)\n",
    "        \n",
    "        nengo.Connection(model.array_direct[0], model.xDelta_direct)\n",
    "        nengo.Connection(model.X_direct, model.xDelta_direct, transform=-1)\n",
    "        nengo.Connection(model.array_direct[1], model.yDelta_direct)\n",
    "        nengo.Connection(model.Y_direct, model.yDelta_direct, transform=-1)\n",
    "        \n",
    "        \n",
    "        #calculate if to keep calculating\n",
    "        model.IsPoseEqualtoEndEffectorX = nengo.Ensemble(n_neurons=3*neurons_per_rad, dimensions=1, radius=1, seed=10)\n",
    "        model.IsPoseEqualtoEndEffectorY = nengo.Ensemble(n_neurons=3*neurons_per_rad, dimensions=1, radius=1, seed=10)\n",
    "        \n",
    "        model.IsPoseEqualtoEndEffectorX_direct = nengo.Ensemble(n_neurons=1, dimensions=1, neuron_type=nengo.Direct())\n",
    "        model.IsPoseEqualtoEndEffectorY_direct = nengo.Ensemble(n_neurons=1, dimensions=1, neuron_type=nengo.Direct())\n",
    "        \n",
    "        \n",
    "        def check_difference(Delta):\n",
    "            if Delta < 0:\n",
    "                if Delta > (END_EFFECTOR_COORIDINATES_TOLERANCE * -1): return 1\n",
    "            else:\n",
    "                if Delta < END_EFFECTOR_COORIDINATES_TOLERANCE: return 1\n",
    "            return 0\n",
    "        \n",
    "        nengo.Connection(model.xDelta,model.IsPoseEqualtoEndEffectorX, function=check_difference)\n",
    "        nengo.Connection(model.yDelta,model.IsPoseEqualtoEndEffectorY, function=check_difference)\n",
    "        \n",
    "        nengo.Connection(model.xDelta_direct,model.IsPoseEqualtoEndEffectorX_direct, function=check_difference)\n",
    "        nengo.Connection(model.yDelta_direct,model.IsPoseEqualtoEndEffectorY_direct, function=check_difference)\n",
    "        \n",
    "        model.IsPoseEqualtoEndEffector_array = nengo.Ensemble(n_neurons=3*neurons_per_rad, dimensions=2, \n",
    "                                                              radius=np.sqrt(2*1**2), seed=10)\n",
    "        model.IsPoseEqualtoEndEffector_array_direct = nengo.Ensemble(n_neurons=1, dimensions=2, neuron_type=nengo.Direct())\n",
    "        \n",
    "        nengo.Connection(model.IsPoseEqualtoEndEffectorX,model.IsPoseEqualtoEndEffector_array[0])\n",
    "        nengo.Connection(model.IsPoseEqualtoEndEffectorY,model.IsPoseEqualtoEndEffector_array[1])\n",
    "        \n",
    "        nengo.Connection(model.IsPoseEqualtoEndEffectorX_direct,model.IsPoseEqualtoEndEffector_array_direct[0])\n",
    "        nengo.Connection(model.IsPoseEqualtoEndEffectorY_direct,model.IsPoseEqualtoEndEffector_array_direct[1])\n",
    "       \n",
    "        model.IsPoseEqualtoEndEffector = nengo.Ensemble(n_neurons=3*neurons_per_rad, dimensions=1, radius=1, seed=10)    \n",
    "        model.IsPoseEqualtoEndEffector_direct = nengo.Ensemble(n_neurons=1, dimensions=1, neuron_type=nengo.Direct())\n",
    "        \n",
    "        def multiply2(array):\n",
    "            return array[0]*array[1]\n",
    "        \n",
    "        nengo.Connection(model.IsPoseEqualtoEndEffector_array,model.IsPoseEqualtoEndEffector, function=multiply2)\n",
    "        nengo.Connection(model.IsPoseEqualtoEndEffector_array_direct,model.IsPoseEqualtoEndEffector_direct, function=multiply2)\n",
    "        \n",
    "        \n",
    "        \n",
    "         # calculate Jacobian\n",
    "            # J = np.array([[a11],\n",
    "            #           [a21],       \n",
    "            #           ])\n",
    "        \n",
    "        \n",
    "        model.a11 = nengo.Ensemble(n_neurons=3*neurons_per_rad, dimensions=1, radius=L[0], seed=10)\n",
    "        model.a21 = nengo.Ensemble(n_neurons=3*neurons_per_rad, dimensions=1, radius=L[0], seed=10)\n",
    "        \n",
    "        model.a11_direct=nengo.Ensemble(n_neurons=1, dimensions=1, neuron_type=nengo.Direct())\n",
    "        model.a21_direct=nengo.Ensemble(n_neurons=1, dimensions=1, neuron_type=nengo.Direct())\n",
    "        \n",
    "        nengo.Connection(model.Y,model.a11,transform=-1)\n",
    "        nengo.Connection(model.X,model.a21)\n",
    "        \n",
    "        nengo.Connection(model.Y_direct,model.a11_direct,transform=-1)\n",
    "        nengo.Connection(model.X_direct,model.a21_direct)\n",
    "        \n",
    "        model.J_ens = nengo.Ensemble(n_neurons=9*neurons_per_rad, dimensions=5, \n",
    "                               radius=np.sqrt(4*L[0]**2+1), seed=10)\n",
    "        model.J_ens_direct=nengo.Ensemble(n_neurons=1, dimensions=5, neuron_type=nengo.Direct())\n",
    "        \n",
    "        nengo.Connection(model.a11,model.J_ens[0])\n",
    "        nengo.Connection(model.a21,model.J_ens[1]) \n",
    "        nengo.Connection(model.xDelta,model.J_ens[2])\n",
    "        nengo.Connection(model.yDelta,model.J_ens[3])\n",
    "        nengo.Connection(model.IsPoseEqualtoEndEffector,model.J_ens[4])\n",
    "        \n",
    "        nengo.Connection(model.a11_direct,model.J_ens_direct[0])\n",
    "        nengo.Connection(model.a21_direct,model.J_ens_direct[1]) \n",
    "        nengo.Connection(model.xDelta_direct,model.J_ens_direct[2])\n",
    "        nengo.Connection(model.yDelta_direct,model.J_ens_direct[3])\n",
    "        nengo.Connection(model.IsPoseEqualtoEndEffector_direct,model.J_ens_direct[4])\n",
    "        \n",
    "        model.teta0_final = nengo.Ensemble(n_neurons=3*neurons_per_rad, dimensions=1, radius=np.pi, seed=10)\n",
    "        model.teta0_final_direct = nengo.Ensemble(n_neurons=1, dimensions=1,neuron_type=nengo.Direct())\n",
    "       \n",
    "        \n",
    "        def calculate_J_theta0(J):\n",
    "            newAngles=[0]\n",
    "            if(J[4] > 0):\n",
    "                j = np.array([[J[0]], [J[1]]])\n",
    "        \n",
    "                inverseJ = np.linalg.pinv(j) # Jacobian pseudo inverse\n",
    "                deltaMatrix = np.array([J[2], J[3]]).T # x, y, z, phie delta change vector\n",
    "                newAngles = inverseJ.dot(deltaMatrix) # J^-1 dot product with x, y, z, phie delta change vector\n",
    "            return newAngles[0]*adaptation_rate\n",
    "        \n",
    "        \n",
    "        \n",
    "        #adding the new angles values according to J\n",
    "        nengo.Connection(model.J_ens,model.teta0_final,function=calculate_J_theta0)\n",
    "        nengo.Connection(model.teta0,model.teta0_final)\n",
    "        \n",
    "        nengo.Connection(model.J_ens_direct,model.teta0_final_direct,function=calculate_J_theta0)\n",
    "        nengo.Connection(model.teta0_direct,model.teta0_final_direct)\n",
    "        \n",
    "        \n",
    "        #update the original angles in order to keep calculate\n",
    "        nengo.Connection(model.teta0_final,model.teta0)\n",
    "        nengo.Connection(model.teta0_final_direct,model.teta0_direct)\n",
    "        \n",
    "        \n",
    "        model.probe_teta0 = nengo.Probe(model.teta0, synapse=0.01)\n",
    "        model.probe_teta0_direct = nengo.Probe(model.teta0_direct, synapse=0.01)\n",
    "       \n",
    "    \n",
    "        return model\n",
    "    \n",
    "    \n",
    "model = nengo.Network(label='Inverse Kinematics numeric')\n",
    "with model:\n",
    "    \n",
    "    def scale_down_angle(x):\n",
    "            return (x - np.pi) / (np.pi)\n",
    "        \n",
    "    stim_x = nengo.Node(Piecewise({0: 0}))\n",
    "    stim_y = nengo.Node(Piecewise({0: 1}))\n",
    "  \n",
    "    \n",
    "    stim_teta0 = nengo.Node(Piecewise({0: scale_down_angle(0)}))\n",
    "   \n",
    "    ik = inverse_kinematics_numeric()\n",
    "    \n",
    "    nengo.Connection(stim_x, ik.stim_x)\n",
    "    nengo.Connection(stim_y, ik.stim_y)\n",
    "    \n",
    "    nengo.Connection(stim_teta0, ik.stim_teta0)\n",
    "    \n",
    "    \n",
    "    print(model.n_neurons)       "
   ]
  },
  {
   "cell_type": "code",
   "execution_count": 5,
   "metadata": {},
   "outputs": [
    {
     "data": {
      "application/vdom.v1+json": {
       "attributes": {},
       "tagName": "div"
      },
      "text/html": [
       "\n",
       "                <script>\n",
       "                    if (Jupyter.version.split(\".\")[0] < 5) {\n",
       "                        var pb = document.getElementById(\"986bcc9b-f173-4e74-80a8-898157761796\");\n",
       "                        var text = document.createTextNode(\n",
       "                            \"HMTL progress bar requires Jupyter Notebook >= \" +\n",
       "                            \"5.0 or Jupyter Lab. Alternatively, you can use \" +\n",
       "                            \"TerminalProgressBar().\");\n",
       "                        pb.parentNode.insertBefore(text, pb);\n",
       "                    }\n",
       "                </script>\n",
       "                <div id=\"986bcc9b-f173-4e74-80a8-898157761796\" style=\"\n",
       "                    width: 100%;\n",
       "                    border: 1px solid #cfcfcf;\n",
       "                    border-radius: 4px;\n",
       "                    text-align: center;\n",
       "                    position: relative;\">\n",
       "                  <div class=\"pb-text\" style=\"\n",
       "                      position: absolute;\n",
       "                      width: 100%;\">\n",
       "                    0%\n",
       "                  </div>\n",
       "                  <div class=\"pb-fill\" style=\"\n",
       "                      background-color: #bdd2e6;\n",
       "                      width: 0%;\">\n",
       "                    <style type=\"text/css\" scoped=\"scoped\">\n",
       "                        @keyframes pb-fill-anim {\n",
       "                            0% { background-position: 0 0; }\n",
       "                            100% { background-position: 100px 0; }\n",
       "                        }\n",
       "                    </style>\n",
       "                    &nbsp;\n",
       "                  </div>\n",
       "                </div>"
      ],
      "text/plain": [
       "HtmlProgressBar cannot be displayed. Please use the TerminalProgressBar. It can be enabled with `nengo.rc.set('progress', 'progress_bar', 'nengo.utils.progress.TerminalProgressBar')`."
      ]
     },
     "metadata": {},
     "output_type": "display_data"
    },
    {
     "data": {
      "application/vdom.v1+json": {
       "attributes": {
        "id": "37453577-d6f9-4da5-abef-844ce747a5ab",
        "style": {
         "border": "1px solid #cfcfcf",
         "borderRadius": "4px",
         "boxSizing": "border-box",
         "position": "relative",
         "textAlign": "center",
         "width": "100%"
        }
       },
       "children": [
        {
         "attributes": {
          "class": "pb-text",
          "style": {
           "position": "absolute",
           "width": "100%"
          }
         },
         "children": [
          "Build finished in 0:00:29."
         ],
         "tagName": "div"
        },
        {
         "attributes": {
          "class": "pb-fill",
          "style": {
           "animation": "none",
           "backgroundColor": "#bdd2e6",
           "backgroundImage": "none",
           "backgroundSize": "100px 100%",
           "width": "100%"
          }
         },
         "children": [
          {
           "attributes": {
            "scoped": "scoped",
            "type": "text/css"
           },
           "children": [
            "\n                        @keyframes pb-fill-anim {\n                            0% { background-position: 0 0; }\n                            100% { background-position: 100px 0; }\n                        }}"
           ],
           "tagName": "style"
          },
          " "
         ],
         "tagName": "div"
        }
       ],
       "tagName": "div"
      },
      "text/html": [
       "<script>\n",
       "              (function () {\n",
       "                  var root = document.getElementById('986bcc9b-f173-4e74-80a8-898157761796');\n",
       "                  var text = root.getElementsByClassName('pb-text')[0];\n",
       "                  var fill = root.getElementsByClassName('pb-fill')[0];\n",
       "\n",
       "                  text.innerHTML = 'Build finished in 0:00:29.';\n",
       "                  \n",
       "            fill.style.width = '100%';\n",
       "            fill.style.animation = 'pb-fill-anim 2s linear infinite';\n",
       "            fill.style.backgroundSize = '100px 100%';\n",
       "            fill.style.backgroundImage = 'repeating-linear-gradient(' +\n",
       "                '90deg, #bdd2e6, #edf2f8 40%, #bdd2e6 80%, #bdd2e6)';\n",
       "        \n",
       "                  \n",
       "                fill.style.animation = 'none';\n",
       "                fill.style.backgroundImage = 'none';\n",
       "            \n",
       "              })();\n",
       "        </script>"
      ]
     },
     "metadata": {},
     "output_type": "display_data"
    },
    {
     "data": {
      "application/vdom.v1+json": {
       "attributes": {},
       "tagName": "div"
      },
      "text/html": [
       "\n",
       "                <script>\n",
       "                    if (Jupyter.version.split(\".\")[0] < 5) {\n",
       "                        var pb = document.getElementById(\"add6ebcc-5eb5-4898-a807-3dd4616cc51f\");\n",
       "                        var text = document.createTextNode(\n",
       "                            \"HMTL progress bar requires Jupyter Notebook >= \" +\n",
       "                            \"5.0 or Jupyter Lab. Alternatively, you can use \" +\n",
       "                            \"TerminalProgressBar().\");\n",
       "                        pb.parentNode.insertBefore(text, pb);\n",
       "                    }\n",
       "                </script>\n",
       "                <div id=\"add6ebcc-5eb5-4898-a807-3dd4616cc51f\" style=\"\n",
       "                    width: 100%;\n",
       "                    border: 1px solid #cfcfcf;\n",
       "                    border-radius: 4px;\n",
       "                    text-align: center;\n",
       "                    position: relative;\">\n",
       "                  <div class=\"pb-text\" style=\"\n",
       "                      position: absolute;\n",
       "                      width: 100%;\">\n",
       "                    0%\n",
       "                  </div>\n",
       "                  <div class=\"pb-fill\" style=\"\n",
       "                      background-color: #bdd2e6;\n",
       "                      width: 0%;\">\n",
       "                    <style type=\"text/css\" scoped=\"scoped\">\n",
       "                        @keyframes pb-fill-anim {\n",
       "                            0% { background-position: 0 0; }\n",
       "                            100% { background-position: 100px 0; }\n",
       "                        }\n",
       "                    </style>\n",
       "                    &nbsp;\n",
       "                  </div>\n",
       "                </div>"
      ],
      "text/plain": [
       "HtmlProgressBar cannot be displayed. Please use the TerminalProgressBar. It can be enabled with `nengo.rc.set('progress', 'progress_bar', 'nengo.utils.progress.TerminalProgressBar')`."
      ]
     },
     "metadata": {},
     "output_type": "display_data"
    },
    {
     "data": {
      "application/vdom.v1+json": {
       "attributes": {
        "id": "21900af5-0b5a-41b0-9ba3-cb527d9f2e02",
        "style": {
         "border": "1px solid #cfcfcf",
         "borderRadius": "4px",
         "boxSizing": "border-box",
         "position": "relative",
         "textAlign": "center",
         "width": "100%"
        }
       },
       "children": [
        {
         "attributes": {
          "class": "pb-text",
          "style": {
           "position": "absolute",
           "width": "100%"
          }
         },
         "children": [
          "Simulation finished in 0:01:45."
         ],
         "tagName": "div"
        },
        {
         "attributes": {
          "class": "pb-fill",
          "style": {
           "animation": "none",
           "backgroundColor": "#bdd2e6",
           "backgroundImage": "none",
           "transition": "width 0.1s linear",
           "width": "100%"
          }
         },
         "children": [
          {
           "attributes": {
            "scoped": "scoped",
            "type": "text/css"
           },
           "children": [
            "\n                        @keyframes pb-fill-anim {\n                            0% { background-position: 0 0; }\n                            100% { background-position: 100px 0; }\n                        }}"
           ],
           "tagName": "style"
          },
          " "
         ],
         "tagName": "div"
        }
       ],
       "tagName": "div"
      },
      "text/html": [
       "<script>\n",
       "              (function () {\n",
       "                  var root = document.getElementById('add6ebcc-5eb5-4898-a807-3dd4616cc51f');\n",
       "                  var text = root.getElementsByClassName('pb-text')[0];\n",
       "                  var fill = root.getElementsByClassName('pb-fill')[0];\n",
       "\n",
       "                  text.innerHTML = 'Simulation finished in 0:01:45.';\n",
       "                  \n",
       "            if (100.0 > 0.) {\n",
       "                fill.style.transition = 'width 0.1s linear';\n",
       "            } else {\n",
       "                fill.style.transition = 'none';\n",
       "            }\n",
       "\n",
       "            fill.style.width = '100.0%';\n",
       "            fill.style.animation = 'none';\n",
       "            fill.style.backgroundImage = 'none'\n",
       "        \n",
       "                  \n",
       "                fill.style.animation = 'none';\n",
       "                fill.style.backgroundImage = 'none';\n",
       "            \n",
       "              })();\n",
       "        </script>"
      ]
     },
     "metadata": {},
     "output_type": "display_data"
    },
    {
     "name": "stdout",
     "output_type": "stream",
     "text": [
      "teta0_error:  [7.62283568]\n"
     ]
    }
   ],
   "source": [
    "with nengo.Simulator(model) as sim:\n",
    "    sim.run(4)\n",
    "    \n",
    "teta0_e = np.sqrt(sum((sim.data[ik.probe_teta0] - sim.data[ik.probe_teta0_direct])**2)) \n",
    "\n",
    "print('teta0_error: ', teta0_e)"
   ]
  },
  {
   "cell_type": "code",
   "execution_count": 6,
   "metadata": {},
   "outputs": [
    {
     "data": {
      "image/png": "[encoded data removed]",
      "text/plain": [
       "<Figure size 432x288 with 1 Axes>"
      ]
     },
     "metadata": {
      "needs_background": "light"
     },
     "output_type": "display_data"
    }
   ],
   "source": [
    "plt.figure()\n",
    "plt.xlabel(\"Time (sec)\")\n",
    "plt.ylabel(\"Value\");\n",
    "plt.plot(sim.trange(), sim.data[ik.probe_teta0], color = 'purple',label=\"teta0\")\n",
    "plt.plot(sim.trange(), sim.data[ik.probe_teta0_direct], color = 'black',label=\"~teta0\")\n",
    "plt.legend()\n",
    "plt.savefig('loc.jpg', dpi=350)"
   ]
  },
  {
   "cell_type": "code",
   "execution_count": null,
   "metadata": {},
   "outputs": [],
   "source": []
  }
 ],
 "metadata": {
  "kernelspec": {
   "display_name": "Python 3",
   "language": "python",
   "name": "python3"
  },
  "language_info": {
   "codemirror_mode": {
    "name": "ipython",
    "version": 3
   },
   "file_extension": ".py",
   "mimetype": "text/x-python",
   "name": "python",
   "nbconvert_exporter": "python",
   "pygments_lexer": "ipython3",
   "version": "3.7.3"
  }
 },
 "nbformat": 4,
 "nbformat_minor": 2
}
